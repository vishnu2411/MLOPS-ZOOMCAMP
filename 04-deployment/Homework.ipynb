{
 "cells": [
  {
   "cell_type": "code",
   "execution_count": 1,
   "id": "f5513e5a-2e1c-41f0-b968-e147f6f79315",
   "metadata": {},
   "outputs": [
    {
     "name": "stdout",
     "output_type": "stream",
     "text": [
      "Fetching yellow taxi trip data for 2023-01\n",
      "Dataset contains 3066766 records and 19 columns\n",
      "98.1220282212598% of records are kept after outlier removal\n",
      "fit-transforming the features\n",
      "515 features will be used\n",
      "Training regressor of type LR\n",
      "RMSE: 7.649261822035489\n"
     ]
    }
   ],
   "source": [
    "from model_training import train_pipeline, validation_pipeline\n",
    "\n",
    "train_pipeline()"
   ]
  },
  {
   "cell_type": "code",
   "execution_count": 2,
   "id": "c1b4f224-1f45-43e1-b3c8-13b6ff5a9d11",
   "metadata": {},
   "outputs": [
    {
     "name": "stdout",
     "output_type": "stream",
     "text": [
      "Fetching yellow taxi trip data for 2023-02\n",
      "Dataset contains 2913955 records and 19 columns\n",
      "98.00944077722545% of records are kept after outlier removal\n",
      "transforming the features\n",
      "515 features will be used\n",
      "RMSE: 7.811821332387183\n"
     ]
    }
   ],
   "source": [
    "import pickle\n",
    "\n",
    "with open('model.bin', 'rb') as f_in:\n",
    "    dv, model = pickle.load(f_in)\n",
    "\n",
    "validation_pipeline(dv, model)"
   ]
  },
  {
   "cell_type": "markdown",
   "id": "30589944-3862-4c80-bd1e-26a702b18b09",
   "metadata": {},
   "source": [
    "## Preditction"
   ]
  },
  {
   "cell_type": "code",
   "execution_count": 3,
   "id": "5942dd99-5312-4b3f-9d83-3a8d887cbed1",
   "metadata": {},
   "outputs": [],
   "source": [
    "with open('model.bin', 'rb') as f_in:\n",
    "    dv, model = pickle.load(f_in)"
   ]
  },
  {
   "cell_type": "code",
   "execution_count": 4,
   "id": "26e1f789-b1ba-456e-98fa-3fef7ccc0c14",
   "metadata": {},
   "outputs": [],
   "source": [
    "import pandas as pd\n",
    "\n",
    "categorical = ['PULocationID', 'DOLocationID']\n",
    "\n",
    "def read_data(filename):\n",
    "    df = pd.read_parquet(filename)\n",
    "    \n",
    "    df['duration'] = df.tpep_dropoff_datetime - df.tpep_pickup_datetime\n",
    "    df['duration'] = df.duration.dt.total_seconds() / 60\n",
    "\n",
    "    df = df[(df.duration >= 1) & (df.duration <= 60)].copy()\n",
    "\n",
    "    df[categorical] = df[categorical].fillna(-1).astype('int').astype('str')\n",
    "    \n",
    "    return df"
   ]
  },
  {
   "cell_type": "code",
   "execution_count": 5,
   "id": "19b1969d-e7df-4917-8560-81003060c26b",
   "metadata": {},
   "outputs": [],
   "source": [
    "df = read_data('https://d37ci6vzurychx.cloudfront.net/trip-data/yellow_tripdata_2023-03.parquet')"
   ]
  },
  {
   "cell_type": "code",
   "execution_count": 6,
   "id": "03e29578-14c2-466f-96b6-b608f729ce4c",
   "metadata": {},
   "outputs": [],
   "source": [
    "dicts = df[categorical].to_dict(orient='records')\n",
    "X_val = dv.transform(dicts)\n",
    "y_pred = model.predict(X_val)"
   ]
  },
  {
   "cell_type": "markdown",
   "id": "64a9f99c-c70f-4a41-bec6-ffa274fc3c7d",
   "metadata": {},
   "source": [
    "## Q1 standard deviation of the predicted duration"
   ]
  },
  {
   "cell_type": "code",
   "execution_count": 7,
   "id": "0402db63-f29b-4077-9321-9207783b13f2",
   "metadata": {},
   "outputs": [
    {
     "data": {
      "text/plain": [
       "np.float64(6.247508934958102)"
      ]
     },
     "execution_count": 7,
     "metadata": {},
     "output_type": "execute_result"
    }
   ],
   "source": [
    "y_pred.std()"
   ]
  },
  {
   "cell_type": "markdown",
   "id": "80c04c52-c9ea-4727-9696-002a2a56c44a",
   "metadata": {},
   "source": [
    "## Q2 Preparing Output"
   ]
  },
  {
   "cell_type": "code",
   "execution_count": 9,
   "id": "25045ae5-8ea2-4492-b85f-7d9944839286",
   "metadata": {},
   "outputs": [],
   "source": [
    "df = pd.DataFrame({'duration': y_pred})"
   ]
  },
  {
   "cell_type": "code",
   "execution_count": 10,
   "id": "b0b0cc02-9219-4676-9dbc-8e1459efaac7",
   "metadata": {},
   "outputs": [],
   "source": [
    "year = 2023\n",
    "month = 3\n",
    "df['ride_id'] = f'{year:04d}/{month:02d}_' + df.index.astype('str')"
   ]
  },
  {
   "cell_type": "code",
   "execution_count": 11,
   "id": "64bfbf3a-8e47-41b8-8032-9a3f34312238",
   "metadata": {},
   "outputs": [],
   "source": [
    "df.to_parquet(\n",
    "    'predictions_{}-{:02d}.parquet'.format(year, month),\n",
    "    engine='pyarrow',\n",
    "    compression=None,\n",
    "    index=False\n",
    ")"
   ]
  },
  {
   "cell_type": "code",
   "execution_count": 12,
   "id": "f5701c30-5f7b-41b9-b6a1-7343f98ca059",
   "metadata": {},
   "outputs": [
    {
     "name": "stdout",
     "output_type": "stream",
     "text": [
      "-rw-r--r-- 1 root root 66M Jun 17 02:44 predictions_2023-03.parquet\n"
     ]
    }
   ],
   "source": [
    "! ls -lh predictions_2023-03.parquet"
   ]
  },
  {
   "cell_type": "markdown",
   "id": "750cabc9-de3a-457e-8718-77ed38d7a903",
   "metadata": {},
   "source": [
    "## Q3: Creating the scoring script"
   ]
  },
  {
   "cell_type": "markdown",
   "id": "b298138d-5694-4aad-bbad-2459dbd6f2d4",
   "metadata": {},
   "source": [
    "the required command is : jupyter nbconvert --to script <file_name>.ipynb where, in this case, file_name is Homework.ipynb"
   ]
  },
  {
   "cell_type": "markdown",
   "id": "72909d74-f941-440f-b627-906050471073",
   "metadata": {},
   "source": [
    "## Q4: Virtual environment. Hash for Scikit-learn"
   ]
  },
  {
   "cell_type": "markdown",
   "id": "614225fd-2be9-4396-89f6-e9a1b0dd2ede",
   "metadata": {},
   "source": [
    "sha256:017367484ce5498445aade74b1d5ab377acdc65e27095155e448c88497755a5d"
   ]
  },
  {
   "cell_type": "markdown",
   "id": "91cd31cf-c807-4554-b6cd-5e0e9435cd2b",
   "metadata": {},
   "source": [
    "## Q5: Parameterize the script"
   ]
  },
  {
   "cell_type": "code",
   "execution_count": 14,
   "id": "78ad6cd3-cbb6-4560-85fd-613db14aa2af",
   "metadata": {},
   "outputs": [
    {
     "name": "stdout",
     "output_type": "stream",
     "text": [
      "reading from cloud: https://d37ci6vzurychx.cloudfront.net/trip-data/yellow_tripdata_2023-04.parquet\n",
      "predicted mean duration: 14.292282595842746\n"
     ]
    }
   ],
   "source": [
    "from model_prediction import TaxiDurationPredictor\n",
    "\n",
    "td_predictor = TaxiDurationPredictor('./')\n",
    "td_predictor.run(2023, 4)"
   ]
  },
  {
   "cell_type": "markdown",
   "id": "a97eb7ef-d259-4621-9506-c80824994ab4",
   "metadata": {},
   "source": [
    "## Q6 Run the script with docker. What's the mean predicted duration for May 2023?"
   ]
  },
  {
   "cell_type": "markdown",
   "id": "b55f14ae-26d0-44d9-b330-985e600e41d2",
   "metadata": {},
   "source": [
    "### predicted mean duration: 14.242594161108755"
   ]
  },
  {
   "cell_type": "code",
   "execution_count": null,
   "id": "4d02901b-9ce9-4c1b-a729-8134a0c19e20",
   "metadata": {},
   "outputs": [],
   "source": []
  }
 ],
 "metadata": {
  "kernelspec": {
   "display_name": "Python 3 (ipykernel)",
   "language": "python",
   "name": "python3"
  },
  "language_info": {
   "codemirror_mode": {
    "name": "ipython",
    "version": 3
   },
   "file_extension": ".py",
   "mimetype": "text/x-python",
   "name": "python",
   "nbconvert_exporter": "python",
   "pygments_lexer": "ipython3",
   "version": "3.13.2"
  }
 },
 "nbformat": 4,
 "nbformat_minor": 5
}
